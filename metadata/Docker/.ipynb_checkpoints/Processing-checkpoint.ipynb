{
 "cells": [
  {
   "cell_type": "markdown",
   "id": "0b9b6e5f-f9a5-45f0-b5af-51a3412bc559",
   "metadata": {},
   "source": [
    "# Data Cleaning Notebook \n",
    "\n",
    "## This starts with the merged cleaned data file, where all text has been extracted from the syllabi and put into a string variable within the data. The data has NOT, however, been tokenized yet. \n"
   ]
  },
  {
   "cell_type": "code",
   "execution_count": 51,
   "id": "25bed6fe-8993-4ca4-8778-fca266a6ba60",
   "metadata": {},
   "outputs": [
    {
     "name": "stderr",
     "output_type": "stream",
     "text": [
      "[nltk_data] Downloading package words to /Users/jordan/nltk_data...\n",
      "[nltk_data]   Package words is already up-to-date!\n"
     ]
    },
    {
     "data": {
      "text/plain": [
       "True"
      ]
     },
     "execution_count": 51,
     "metadata": {},
     "output_type": "execute_result"
    }
   ],
   "source": [
    "import pandas as pd\n",
    "import os, os.path\n",
    "import string\n",
    "from bs4 import BeautifulSoup\n",
    "import re\n",
    "import gensim \n",
    "import nltk\n",
    "nltk.download('words')"
   ]
  },
  {
   "cell_type": "code",
   "execution_count": 52,
   "id": "17cb6cdb-8a94-400d-9a43-8f9434d13ef7",
   "metadata": {},
   "outputs": [],
   "source": [
    "#def remove_punctuation(text):\n",
    "#    punct_gone = \"\".join([c for c in text if c not in string.punctuation])\n",
    "#    return punct_gone\n",
    "\n",
    "def remove_punctuation(text):\n",
    "    remove = string.punctuation\n",
    "    remove = remove.replace(\"-\", \"\") # don't remove hyphens\n",
    "    pattern = r\"[{}]\".format(remove) # create the pattern\n",
    "    return re.sub(pattern, \"\", text) \n",
    "\n",
    "def remove_links(text):\n",
    "    soup = BeautifulSoup(text, 'lxml')\n",
    "    link_free = soup.get_text()\n",
    "    return link_free "
   ]
  },
  {
   "cell_type": "code",
   "execution_count": 53,
   "id": "34401250-0fe6-44c4-a10b-b60e7b401fa2",
   "metadata": {},
   "outputs": [],
   "source": [
    "# Pull in data and begin preprocessing \n",
    "os.chdir(\"/Users/jordan/Desktop/Git_folder/NLP_Syllabi_Project/data_and_output\")\n",
    "data = pd.read_csv(\"merged_data_clean.csv\")"
   ]
  },
  {
   "cell_type": "code",
   "execution_count": 54,
   "id": "714b868d-e593-451d-a3c3-f7d501fda2d4",
   "metadata": {},
   "outputs": [
    {
     "name": "stdout",
     "output_type": "stream",
     "text": [
      "0       \\nAFRI 0090: INTRODUCTION TO AFRICANA STUDIES ...\n",
      "1       \\nProf Françoise N. Hamlin \\nOffice: Churchill...\n",
      "2       AFRI\\t\\t2001\\t(AFRICANA\\tTHEORY)\\t\\t\\n\\t\\nProf...\n",
      "3       THIS SYLLABUS IS DYNAMIC AND SUBJECT TO CHANGE...\n",
      "4       Race, Sex, Disability 9.9.18 \\nAFRI 1060Z Race...\n",
      "                              ...                        \n",
      "4884                                                  NaN\n",
      "4885                                                  NaN\n",
      "4886                                                  NaN\n",
      "4887                                                  NaN\n",
      "4888                                                  NaN\n",
      "Name: Corpus, Length: 4889, dtype: object\n"
     ]
    }
   ],
   "source": [
    "print(data['Corpus'])"
   ]
  },
  {
   "cell_type": "code",
   "execution_count": 55,
   "id": "58004dfb-46be-4b9b-95ed-eba9dce4012b",
   "metadata": {},
   "outputs": [
    {
     "name": "stdout",
     "output_type": "stream",
     "text": [
      "0       This course introduces students to the vibrant...\n",
      "1       In 1968 students’ walked-out at Brown, leading...\n",
      "2       This course will be a close reading of the var...\n",
      "3       VBV is an interdisciplinary exploration of Afr...\n",
      "4       This seminar investigates the fraught entangle...\n",
      "                              ...                        \n",
      "4884    This course explores food and nutrition in the...\n",
      "4885    APMA 1650 is an integrated first course in mat...\n",
      "4886    Critical reasoning is the art of recognizing, ...\n",
      "4887    21st century businesses and investors face a b...\n",
      "4888    History of American law and constitutions from...\n",
      "Name: description, Length: 4889, dtype: object\n"
     ]
    }
   ],
   "source": [
    "print(data['description'])"
   ]
  },
  {
   "cell_type": "code",
   "execution_count": 56,
   "id": "bc4d7dcf-f9df-46c9-9330-62bf05cc56fa",
   "metadata": {},
   "outputs": [
    {
     "name": "stdout",
     "output_type": "stream",
     "text": [
      "0       AFRI 0090: INTRODUCTION TO AFRICANA STUDIES \\n...\n",
      "1       Prof Françoise N. Hamlin \\nOffice: Churchill H...\n",
      "2       AFRI\\t\\t2001\\t(AFRICANA\\tTHEORY)\\t\\t\\n\\t\\nProf...\n",
      "3       THIS SYLLABUS IS DYNAMIC AND SUBJECT TO CHANGE...\n",
      "4       Race, Sex, Disability 9.9.18 \\nAFRI 1060Z Race...\n",
      "                              ...                        \n",
      "4884                                                  nan\n",
      "4885                                                  nan\n",
      "4886                                                  nan\n",
      "4887                                                  nan\n",
      "4888                                                  nan\n",
      "Name: Corpus, Length: 4889, dtype: object\n",
      "0       This course introduces students to the vibrant...\n",
      "1       In 1968 students’ walked-out at Brown, leading...\n",
      "2       This course will be a close reading of the var...\n",
      "3       VBV is an interdisciplinary exploration of Afr...\n",
      "4       This seminar investigates the fraught entangle...\n",
      "                              ...                        \n",
      "4884    This course explores food and nutrition in the...\n",
      "4885    APMA 1650 is an integrated first course in mat...\n",
      "4886    Critical reasoning is the art of recognizing, ...\n",
      "4887    21st century businesses and investors face a b...\n",
      "4888    History of American law and constitutions from...\n",
      "Name: description, Length: 4889, dtype: object\n"
     ]
    }
   ],
   "source": [
    "#data['Corpus'].apply(lambda x: str(x).strip())\n",
    "data['Corpus'] = data['Corpus'].apply(lambda x: str(x).strip())\n",
    "data['description'] = data['description'].apply(lambda x: str(x).strip())\n",
    "print(data['Corpus'])\n",
    "print(data['description'])"
   ]
  },
  {
   "cell_type": "code",
   "execution_count": 57,
   "id": "e065423f-849c-4901-9d64-8bd129314ef7",
   "metadata": {},
   "outputs": [
    {
     "name": "stdout",
     "output_type": "stream",
     "text": [
      "0       AFRI 0090: INTRODUCTION TO AFRICANA STUDIES Fa...\n",
      "1       Prof Françoise N. Hamlin Office: Churchill Hou...\n",
      "2       AFRI\\t\\t2001\\t(AFRICANA\\tTHEORY)\\t\\t\\tProfesso...\n",
      "3       THIS SYLLABUS IS DYNAMIC AND SUBJECT TO CHANGE...\n",
      "4       Race, Sex, Disability 9.9.18 AFRI 1060Z Race, ...\n",
      "                              ...                        \n",
      "4884                                                  nan\n",
      "4885                                                  nan\n",
      "4886                                                  nan\n",
      "4887                                                  nan\n",
      "4888                                                  nan\n",
      "Name: Corpus, Length: 4889, dtype: object\n",
      "0       This course introduces students to the vibrant...\n",
      "1       In 1968 students’ walked-out at Brown, leading...\n",
      "2       This course will be a close reading of the var...\n",
      "3       VBV is an interdisciplinary exploration of Afr...\n",
      "4       This seminar investigates the fraught entangle...\n",
      "                              ...                        \n",
      "4884    This course explores food and nutrition in the...\n",
      "4885    APMA 1650 is an integrated first course in mat...\n",
      "4886    Critical reasoning is the art of recognizing, ...\n",
      "4887    21st century businesses and investors face a b...\n",
      "4888    History of American law and constitutions from...\n",
      "Name: description, Length: 4889, dtype: object\n"
     ]
    }
   ],
   "source": [
    "data['Corpus'] = data['Corpus'].apply(lambda x: str(x).replace('\\n', \"\"))\n",
    "data['description'] = data['description'].apply(lambda x: str(x).replace('\\n', \"\"))\n",
    "print(data['Corpus'])\n",
    "print(data['description'])"
   ]
  },
  {
   "cell_type": "code",
   "execution_count": 58,
   "id": "2475fbf2-6a46-494c-92c4-839012f8e2cf",
   "metadata": {},
   "outputs": [
    {
     "name": "stdout",
     "output_type": "stream",
     "text": [
      "0       AFRI 0090: INTRODUCTION TO AFRICANA STUDIES Fa...\n",
      "1       Prof Françoise N. Hamlin Office: Churchill Hou...\n",
      "2       AFRI  2001 (AFRICANA THEORY)   Professor Paget...\n",
      "3       THIS SYLLABUS IS DYNAMIC AND SUBJECT TO CHANGE...\n",
      "4       Race, Sex, Disability 9.9.18 AFRI 1060Z Race, ...\n",
      "                              ...                        \n",
      "4884                                                  nan\n",
      "4885                                                  nan\n",
      "4886                                                  nan\n",
      "4887                                                  nan\n",
      "4888                                                  nan\n",
      "Name: Corpus, Length: 4889, dtype: object\n",
      "0       This course introduces students to the vibrant...\n",
      "1       In 1968 students’ walked-out at Brown, leading...\n",
      "2       This course will be a close reading of the var...\n",
      "3       VBV is an interdisciplinary exploration of Afr...\n",
      "4       This seminar investigates the fraught entangle...\n",
      "                              ...                        \n",
      "4884    This course explores food and nutrition in the...\n",
      "4885    APMA 1650 is an integrated first course in mat...\n",
      "4886    Critical reasoning is the art of recognizing, ...\n",
      "4887    21st century businesses and investors face a b...\n",
      "4888    History of American law and constitutions from...\n",
      "Name: description, Length: 4889, dtype: object\n"
     ]
    }
   ],
   "source": [
    "data['Corpus'] = data['Corpus'].apply(lambda x: str(x).replace('\\t', \" \"))\n",
    "data['description'] = data['description'].apply(lambda x: str(x).replace('\\t', \" \"))\n",
    "print(data['Corpus'])\n",
    "print(data['description'])"
   ]
  },
  {
   "cell_type": "code",
   "execution_count": 59,
   "id": "6abe72ad-6a85-4bee-b22c-1b46cbfae43e",
   "metadata": {},
   "outputs": [
    {
     "name": "stdout",
     "output_type": "stream",
     "text": [
      "THIS SYLLABUS IS DYNAMIC AND SUBJECT TO CHANGEInstructor  Elmo Terry-Morgan Associate ProfessorMeeting Time TuesdaysThursdays 1030 am - 1150 amLocation  Churchill House Room 106Office Hours  Open Hours Tue 230 pm -400 pmWed 100  200 pm  Other times by appointmentPlace   Churchill 2nd Floor Room 204Contact Info  Ofc 3-1707 Cell 401-419-5507 emergencies only   E-mail elmoterry-morganbrownedu preferredCourse Format Seminar Designated Writing Course WRITThe mission of Brown University is to serve the community the nation and the world by discovering communicating and preserving knowledge and understanding in a spirit of free inquiry and by educating and preparing students to discharge the offices of life with usefulness and reputation We do this through a partnership of students and teachers in a unified community known as a university-college Source Brown University WebsiteVOICES BENEATH THE VEIL A THEATRE OF LIBERATIONVOICES BENEATH THE VEIL supports the mission of Brown University by providing a study of African-American history life and cultures through the analyses of a sampling of plays from 1858 to the Present that are written by Black authors The pedagogical approach is to develop our critical thought process by improving and enhancing our analytical thinking and writing skills via classroom discussions and exercises and the development of a major thesis paper We will investigate the texts for nuances and unique points of entry into old conversations  The playwrights serve as reporters and commentators on primarily the experiences and world perspectives of African-Americans  Our goal is to create new knowledge GRADINGIn-Class Participation 50 of Grade As a seminar - students are expected to participate actively in class discussions and exercises and to conduct independent research that is shared with the class You are allowed one unexcused absence from class If you exceed that well have a talk  You cannot earn a high participation grade if you are not in attendanceGRADING continuedThesis Paper 15-20 pages 50 of Grade All assignments are submitted as a worddocx attachment via email NO PDFsOur thesis paper development is a scaffolding process which means we will build the paper incrementally step-by-step as followsIntroduction that includes the thesis statement is due on or before Friday 100518 by 500 pmOverview which includes your methodology for proving your thesis is due on or before Friday 101218 by 500 pm Research Session Meet with Dr Holly Snyder Afro-Americanist John Hay Library for research assistance sessionResearch Report is due on or before Friday 101918 by 500 pmArgumentText Analysis First 5 pages are due on or before Friday 110218 by 500 pmFirst Draft is due on or before Friday 111618 by 500 pmFinal Draft is due on or before Friday 120718 by 500 pmORGANIZATION AND TIME MANAGEMENT OTM IN HOURSThis is an approximation of time use that is required by the University  Individual practices may varyIn-class meetings     32 40Foundation Week Foundation Readings  2000Foundation Viewings  0230Total    2230     Sub-total 5510Weekly Read each play two times1st read-though get sense of the play and reflect upon it      02002nd read-through analyze the text take notes and determine your thesis    0300Readview supplemental readingsfilms        040013 week subtotal 13x9    11700 Weekly  Thesis Paper Development Thinking Researching Writing  07009 week subtotal 9x7    6300Semester Total Hours    23510       PRIMARY TEXTS AT BROWN UNIVERSITY BOOK STOREALSO ON RESERVE AT THE ROCKBlack Theatre USA The Early Period 1847-1938 editors James V Hatch Ted Shine In the syllabus this book is represented as BTUSA-EPBlack Theatre USA The Recent Period 1935-Today editors James V Hatch Ted Shine In the syllabus this book is represented as BTUSA-RPRECOMMENDED REFERENCES ON RESERVE AT THE ROCKA History of African American Theatre by Errol G Hill and James V HatchPN2270A35 H55 2003Aristocrats of Color Black Elite 1880-1920 by Willard B GatewoodE18586G38 1990Before the Mayflower by Lerone Bennett JrE185B4x 1982Colored Contradictions editors Harry Elam Jr  Robert AlexanderPS628N4 C65 1996The Development of Black Theater in America by Leslie Catherine SandersPS338N4 S26 1988From Slavery to Freedom by John Hope FranklinE185F825 2000Toms Coons Mulattos Mammies and Bucks by Donald BoglePN19959N4 B6 1994Also refer to AFRI 1110 Website  You can access this site via CanvasMOVIES AVAILABLE VIA CANVAS or OCRA or YOUTUBE BACK UPOCRA Password  HansberryMovies In Media Library With Closed Caption AvailabilityAbolitionists The PBS series that documents the lives and work of notable abolitionists anti-slavery activistsRaisin in the Sun A Film version of Lorraine Hansberrys 1959   groundbreaking playDutchman Film version of Leroi JonesAmiri Barakas allegorical play about Black and White race relations in the mid-1960s or on YouTubeEyes on the Prize Volumes 1-7 A documentary on the Civil Rights MovementFierce Love 1991 performance by the groundbreaking trio Pomo Afro Homos Post-Modern African-American Homosexuals Green Pastures The Early all Black cast Hollywood film a folkloric Negro telling of the Bibles Old Testament adaptation by Marc Crowley 1936Hallelujah First all Black cast Hollywood film Good Negro man falls prey to the wiles of the tragic mulatta Chick 1929 on YouTube Imitation of Life 1934 version Film adaptation of novel by Fanny Hurst friendship between a White woman and Black woman and their troublesome daughters 1934 or on YouTubeImitation of Life 1959 version or on YouTubeLost Boundaries Based on a true story about a Negro family that passed for White in the 1920s and 1930s in New England 1949 or on YouTubeMalcolm X Make It Plain documentary on the life of Malcolm X 1994 or on YouTubeNative Son Independent film version of Richard Wrights novel and play the latter co-written with Paul Green starring a too old Richard Wright as Bigger ThomasNative Son 1951 version or on YouTubeNative Son 1986 version starring Victor Love Matt Dillon Elizabeth McGovern and Oprah Winfrey 1986 or on YouTubePinky A Black woman who looks White returns to her southern home to work out her issues 1949 CANVASOCRA or on YoutubeOTHER MOVIES IN MEDIA LIBRARYBirth of a Nation The DW Griffiths controversial 1915 silent film that praises the rise of the Ku Klux Klan following the Civil WarBlack Theatre The Making of a Movement Documentary by Woodie King Jr Overview From A Raisin in the Sun to For Colored GirlsBlack Theatre Summit Dartmouth College 1998 Convened by August Wilson Colored Museum The George C Wolfes exhibits of African-American Life 1988 Providence Black Repertory Companys 2006 productionEthnic Notions A documentary about African-American stereotypes by Marlon RiggsFreshwater Road A Book-on-Legs production of the Civil Rights Era novel by Denise Nicholas adapted by the author and Elmo Terry-MorganNBT At the Dark Tower  Interview wBarbara Ann Teer founder the National Black Theatre 1997NBT Odyssey The Chronicle of the early days of the National Black Theatre of Harlem and its founder Barbara Ann TeerPhilip Rose At the Dark Tower Interview with the producer of the original Broadway production of A Raisin in the Sun Rites and Reason Theatre 2004Song of Sheba The Acts 1 2 African-American musical praise song by  and Clarice LaVerne Thompson produced by the National Black Theatre for NHK-TV Japan 1992Tongues Untied Marlon Riggs poetic essay about Black Gay men late 1989Uncle Toms Cabin Silent film version of Harriet Beecher Stowes novel 1927FOUNDATION MATERIALS READINGS AND FILMSALL ON CANVASA History of African American Theatre by Errol G Hill and James V Hatch Forward Preface Introduction Chapter 1 Slavery and conquest background to black theatre and Chapter 2 The African Theatre to Uncle Toms Cabin Ethnic Notions documentary film by Marlon RiggsBlack Theatre The Making of a Movement 1959-1975 documentary by Woodie King JrBlack Moralist Culture ParadigmText Analysis Model  Thesis Development OutlineWebsite for AFRI 1110 designed by John Hay Librarians VBV link VBV Research Librarian ORDER OF STUDYNB Contribute write a reflection comment question query reaction or idea about each assignment on the canvas discussion board before each class sessionSeptember 2018Thu 090618 Introduction View excerpts of Ethnic Notions by Marlon Riggs African-American stereotypes review syllabus discuss expectationsAssignmentReview foundation readings and moviesTue 091118 Discuss and analyze Foundation MaterialsAssignmentReview thesis development outlineThu 091318Discuss and analyze thesis development processIdentify VBV teams for brainstorming research study and presentations  AssignmentExplore the VBV Website  Prepare questions for Holly SnyderTue 091818 Research SessionResearch session with John Hay Librarian Afro-Americanist Holly SnyderAssignment Read 1 Read The Owl Answers CANVAS 2 People That Led to My Plays by Adrienne Kennedy CANVASNB The Owl Answers is one of the most challenging plays on the syllabus to analyze and understand  The reason I am starting with this play is to accelerate your understanding and practice of text analysis Thu 092018Discuss and analyze The Owl AnswersAssignment Read The Escape or A Leap for Freedom by William Wells Brown 1858 BTUSA-EPTue 092518Discuss and analyze The EscapeAssignment Read a The Colored Museum by George C Wolfe 1988 BTUSA-RP  2 View the PBS-TV excerpted performances directed by George C Wolfe on YouTube andor the 2006 production by the Providence Black Repertory Company CANVASThu 092718Discuss and analyze The Colored MuseumAssignment 1 Read Day of Absence by Douglas Turner Ward Negro Ensemble Company 1965 BTUSA-RPOctober 2018Tue 100218Discuss and analyze Day of AbsenceAssignment Read Wedding Band by Alice Childress 1966 Thu 100418Discuss and analyze Wedding Band and the Black Moralist Culture BMCAssignment 1 Read for colored girlsby Ntozake Shange 1975 CANVAS Introduction that includes the thesis statement is due on or before Friday 100518 by 500 pmTue 100918Discuss analyze and perform for colored girlsAssignment Read  a Mulatto by Langston Hughes 1935 BTUSA-RPThu 101118Discuss and analyze Mulatto and the crime of passing for WhiteOverview which includes your methodology for proving your thesis is due on or before Friday 101218 by 500 pmAssignment Read a Rachel by Angelina Weld Grimk 1916 BTUSA-EP b Aristocrats of Color by Willard B Gatewood The Genteel Performance b Rachel  The Play of the Month The Reason and Synopsis by the Author Grimk c Journal of Negro History An Examination of the Relationship between Race and Gender in an Early Twentieth Century Drama A Study of Angelina Weld Grimks Play Rachel by Michelle Hester 1994  Note VBV final paper fall 1993  d Toms Coons Mulattos Mammies and Bucks The Birth of a Nation by Donald Bogle CANVAS View The Birth of a Nation DW Griffiths infamous Civil WarReconstruction Era epic silent 1915  CANVASTue 101618Discuss and analyze Rachel and a Black aristocratic strategy for equal rightsAssignment Read a On Strivers Row by Abram Hill 1939 a parody of the Black middle class BTUSA-RP Thu 101818Discuss and analyze On Strivers Row and the aspirational middle-classAssignment Read Fierce Love by Pomo Afro Homos 1991 CANVAS  View Fierce Love on CANVASResearch Session Meet with Dr Holly Snyder Afro-Americanist John Hay Library for research assistance sessionResearch Report is due on or before Friday 101918 by 500 pmTue 102318Discuss analyze and perform Fierce Love Black Gay Male Moralist CodeAssignment Read a Native Son by Paul Green  Richard Wright 1941 BTUSA-RP b View Native Son starring Richard Wright as a too old Bigger Thomas 1951 on CANVAS or on YouTubeandor the 1986 version with Victor Love as Bigger Thomas CANVAS or on YouTubeThu 102518Discuss Native SonAssignment Read a A Raisin in the Sun by Lorraine Hansberry 1959 BTUSA-RP b View a A Raisin in the Sun 1961 Producers David Susskind  Phillip Rose b If you have not done so by now - view Black Theatre The Making of a Movement 1980 Woodie King Jr BOTH ON CANVASTue 103018Discuss and analyze A Raisin in the Sun and yet another New NegroAssign roles for BMC Trial Goin A Buffalo characters judge court officersAssignment Read a Goin A Buffalo by Ed Bullins 1966 BTUSA-RP and b Like Niggers Ed Bullins Theater of Reality from The Development of Black Theater in America by Leslie Catherine Sanders CANVAS c PREPARE FOR BMC TRIAL TO BE CONDUCTED IN CLASS ON THU 110217  The Charge Crimes Against the Advancement of Black PeopleNovember 2018Thu 110118BMC Trial Goin A BuffaloAssignment a Fences by August Wilson 1986 CANVAS b The Ground on Which I Stand by August Wilson American Theatre magazine 1996 CANVAS c Black Theatres Unprecedented Times Call and Response The Making of the African Grove Institute for the Arts by Elmo Terry-Morgan BTNews 1999 CANVAS d View  African Grove Institute for the Arts AGIA - Black Theatre Summit Dartmouth College March 1998ArgumentText Analysis First 5 pages are due on or before Friday 110218 by 500 pmTue 110618Discuss Fences and African-American Theatre MovementsAssignment  Work on Thesis PapersThu 110818 Open DayCatch-up on any unfinished business and reflectionsAssignment Read a Dutchman by Amiri Baraka LeRoi Jones BTUSA-RP 1964 b No One Will Turn to that Station Again from The Development of Black Theater in American by Leslie Catherine Sanders CANVAS as LeRoi Jones Essay c View Dutchman on CANVASOCRA or on YouTubeTue 111318Discuss Dutchman and the 1960s Black Arts MovementAssignment a Read Contribution by Ted Shine BTUSA-RP 1969Thu 111518Discuss and analyze Contribution and generational legaciesAssignment View a Freshwater Road adapted by its author Denise Nicholas and Elmo Terry-Morgan 2008 CANVAS b Browse the Eyes on the Prize series for information on Freedom Summer 64 CANVAS c View Inside the Africana Studies Classroom A Conversation with Professor Franoise Hamlin author Crossroads at Clarksdale and Judy Ricardson author Hands on the Freedom Plow co-producer Eyes on the Prize documentary and SNCC member on the Africana Studies WebsiteFirst Draft is due on or before Friday 111618 by 500 pmTue 112018 No class Thanksgiving BreakThu 112218 No class Thanksgiving BreakTue 112718Discuss and analyze Freshwater Road and the Civil Rights MovementAssignment Class divide into groups to read selected short plays from the 1920s-ish list and report on them in class on Tue 112918  BTUSA-EPMine Eyes Have Seen by Alice Dunbar-Nelson 1918Synopsis WWI Should Colored Americans support USA WarsAftermath by Mary P Burrill 1919Synopsis Black Americans post-WWI expectationsThey Who Sit in Darkness by Mary B Burrell 1919Synopsis Impoverished Black family birth control  educationFor Unborn Children by Myrtle Smith Livingston 1926Synopsis BlackWhite romanticsexual relationship tabooThe Purple Flower by Marita Odette Occomy Bonner 1928Synopsis Surreal expression of BlackWhite power dynamicsA Sunday Morning in the South by Georgia Douglas Johnson 1925Synopsis Innocent Black man accused of raping a White womanThu 112918Discuss and analyze 1920s-ish playsTBA Special invitation to attend workshop performance co-sponsored by the Department of Africana StudiesRites and Reason Theatre and the Brown-Trinity MFA Programs in Directing and ActingAssignment Prepare to discuss and work on final thesis papersDecember 2018Tue 120418Thesis paper workshopAssignment Work on thesis papersThu 120618 Last official class meetingThesis paper workshopTHESIS DEVELOPMENT CHECK LISTWrite your paper with the assumption that the reader is educated capable of following a sophisticated argument but knows nothing about the topicThe INTRODUCTION includes basic information Title of the playAuthors name Publication andor first performance dates  A general statement what the play is about thematicallyEstablish parameters of your researchArticulate your thesis statement that which you will prove  The thesis statement is your value judgmentCreate a TRANSITIONAL sentence or short paragraph that fluidly leads the reader into the overviewThe OVERVIEW is not a synopsis of the play or a blow-by-blow description of the dramatic action  The Overview presents the salient themes topics and issues that the play addresses Cogently introduce storyline and metaphorical interpretations that will defend and prove your thesisThe charactersSituationsFormstyle realism surrealism episodic comedysatire etcCreate a TRANSITIONAL sentence or short paragraph that fluidly leads the reader into your argumenttext analysis The ARGUMENT is your case the heart of your thesis paper  Think defense trial lawyer  The TEXT ANALYSIS is how you argue your case  Note Keep your thesis statement up front in the anonymous readers mindThe text analysis includes information that will prove your thesis  Provide significant citations not snippets of dialogue Interpret the citation metaphorically what does it meanProvide research footnote to support your interpretationOrganize your text analysis by following the story line as the action occurs in the script Begin with the title to the end and honestly guide the anonymous reader through the story as it is written ie do NOT jump around in the text cherry-picking moments out of context that defend your thesisRecommendation on how to IDENTIFY SIGNIFICANT CITATIONS Make a hard copy of the textplayHighlight the sections dialogue action descriptions that serve as evidence to prove your thesisType those highlighted passages into your paper and footnote themYou can then describe what happens in the un-highlighted passages that move you forward to your next significant citation a point that proves your thesisThe CONCLUSION is the introduction to your summation ie Ladies and Gentlemen of the jury Remind the anonymous reader of the points you have raised in your argument the evidence you have presented that prove your thesis statement ie Ladies and Gentlemen of the jury I rest my caseThe ANNOTATED BIBLIOGRAPHY is an archive of the evidentiary materials you used to present your argument and prove your thesis  The annotated bibliography is a brief description of each research source  Be honest ie if you only read chapter 3 of a book acknowledge that  This proves that you actually read the resource material  As a fringe benefit the annotated bibliography provides you with a personal reference bibliography that you can use for future purposes Take advantage of the bibliography provided in the BTUSA anthologies  NB The Annotated Bibliography includes a description of your research session with John Hay Librarian Holly Snyder ie what you learned in re how to conduct your researchYou want your THESIS PAPER PRESENTATION to be reader-friendly and professionally presented For the purposes of this paperSubmit work in Worddoc x format so the reader can increasedecrease the font for easier reading - and type comments into the body of the paperCarefully proofread for misspellings and syntactical mistakesDo bottom-of-the-page footnotesPage-number your paperProvide the title of the paperProvide your full nameProvide the date of paper submissionProvide your contact informationASPIRATIONAL 168We have 168 hours each week to use and organize our time efficiently Lets try With gratitude and peace Professor Elmo\n",
      "Now the description\n",
      "VBV is an interdisciplinary exploration of African-American history and cultures through the analyses of Black authored plays from 1858 to the present  The course focuses on the development of a thesis paper which includes an incremental re-writing process\n"
     ]
    }
   ],
   "source": [
    "data['Corpus'] = data['Corpus'].apply(lambda x: remove_punctuation(str(x)))\n",
    "data['description'] = data['description'].apply(lambda x: remove_punctuation(str(x)))\n",
    "print(data['Corpus'][3])\n",
    "print(\"Now the description\")\n",
    "print(data['description'][3])"
   ]
  },
  {
   "cell_type": "code",
   "execution_count": 60,
   "id": "fe563399-c229-49ab-84ab-7c1adfa1a5a9",
   "metadata": {},
   "outputs": [
    {
     "name": "stdout",
     "output_type": "stream",
     "text": [
      "THIS SYLLABUS IS DYNAMIC AND SUBJECT TO CHANGEInstructor  Elmo Terry-Morgan Associate ProfessorMeeting Time TuesdaysThursdays 1030 am - 1150 amLocation  Churchill House Room 106Office Hours  Open Hours Tue 230 pm -400 pmWed 100  200 pm  Other times by appointmentPlace   Churchill 2nd Floor Room 204Contact Info  Ofc 3-1707 Cell 401-419-5507 emergencies only   E-mail elmoterry-morganbrownedu preferredCourse Format Seminar Designated Writing Course WRITThe mission of Brown University is to serve the community the nation and the world by discovering communicating and preserving knowledge and understanding in a spirit of free inquiry and by educating and preparing students to discharge the offices of life with usefulness and reputation We do this through a partnership of students and teachers in a unified community known as a university-college Source Brown University WebsiteVOICES BENEATH THE VEIL A THEATRE OF LIBERATIONVOICES BENEATH THE VEIL supports the mission of Brown University by providing a study of African-American history life and cultures through the analyses of a sampling of plays from 1858 to the Present that are written by Black authors The pedagogical approach is to develop our critical thought process by improving and enhancing our analytical thinking and writing skills via classroom discussions and exercises and the development of a major thesis paper We will investigate the texts for nuances and unique points of entry into old conversations  The playwrights serve as reporters and commentators on primarily the experiences and world perspectives of African-Americans  Our goal is to create new knowledge GRADINGIn-Class Participation 50 of Grade As a seminar - students are expected to participate actively in class discussions and exercises and to conduct independent research that is shared with the class You are allowed one unexcused absence from class If you exceed that well have a talk  You cannot earn a high participation grade if you are not in attendanceGRADING continuedThesis Paper 15-20 pages 50 of Grade All assignments are submitted as a worddocx attachment via email NO PDFsOur thesis paper development is a scaffolding process which means we will build the paper incrementally step-by-step as followsIntroduction that includes the thesis statement is due on or before Friday 100518 by 500 pmOverview which includes your methodology for proving your thesis is due on or before Friday 101218 by 500 pm Research Session Meet with Dr Holly Snyder Afro-Americanist John Hay Library for research assistance sessionResearch Report is due on or before Friday 101918 by 500 pmArgumentText Analysis First 5 pages are due on or before Friday 110218 by 500 pmFirst Draft is due on or before Friday 111618 by 500 pmFinal Draft is due on or before Friday 120718 by 500 pmORGANIZATION AND TIME MANAGEMENT OTM IN HOURSThis is an approximation of time use that is required by the University  Individual practices may varyIn-class meetings     32 40Foundation Week Foundation Readings  2000Foundation Viewings  0230Total    2230     Sub-total 5510Weekly Read each play two times1st read-though get sense of the play and reflect upon it      02002nd read-through analyze the text take notes and determine your thesis    0300Readview supplemental readingsfilms        040013 week subtotal 13x9    11700 Weekly  Thesis Paper Development Thinking Researching Writing  07009 week subtotal 9x7    6300Semester Total Hours    23510       PRIMARY TEXTS AT BROWN UNIVERSITY BOOK STOREALSO ON RESERVE AT THE ROCKBlack Theatre USA The Early Period 1847-1938 editors James V Hatch Ted Shine In the syllabus this book is represented as BTUSA-EPBlack Theatre USA The Recent Period 1935-Today editors James V Hatch Ted Shine In the syllabus this book is represented as BTUSA-RPRECOMMENDED REFERENCES ON RESERVE AT THE ROCKA History of African American Theatre by Errol G Hill and James V HatchPN2270A35 H55 2003Aristocrats of Color Black Elite 1880-1920 by Willard B GatewoodE18586G38 1990Before the Mayflower by Lerone Bennett JrE185B4x 1982Colored Contradictions editors Harry Elam Jr  Robert AlexanderPS628N4 C65 1996The Development of Black Theater in America by Leslie Catherine SandersPS338N4 S26 1988From Slavery to Freedom by John Hope FranklinE185F825 2000Toms Coons Mulattos Mammies and Bucks by Donald BoglePN19959N4 B6 1994Also refer to AFRI 1110 Website  You can access this site via CanvasMOVIES AVAILABLE VIA CANVAS or OCRA or YOUTUBE BACK UPOCRA Password  HansberryMovies In Media Library With Closed Caption AvailabilityAbolitionists The PBS series that documents the lives and work of notable abolitionists anti-slavery activistsRaisin in the Sun A Film version of Lorraine Hansberrys 1959   groundbreaking playDutchman Film version of Leroi JonesAmiri Barakas allegorical play about Black and White race relations in the mid-1960s or on YouTubeEyes on the Prize Volumes 1-7 A documentary on the Civil Rights MovementFierce Love 1991 performance by the groundbreaking trio Pomo Afro Homos Post-Modern African-American Homosexuals Green Pastures The Early all Black cast Hollywood film a folkloric Negro telling of the Bibles Old Testament adaptation by Marc Crowley 1936Hallelujah First all Black cast Hollywood film Good Negro man falls prey to the wiles of the tragic mulatta Chick 1929 on YouTube Imitation of Life 1934 version Film adaptation of novel by Fanny Hurst friendship between a White woman and Black woman and their troublesome daughters 1934 or on YouTubeImitation of Life 1959 version or on YouTubeLost Boundaries Based on a true story about a Negro family that passed for White in the 1920s and 1930s in New England 1949 or on YouTubeMalcolm X Make It Plain documentary on the life of Malcolm X 1994 or on YouTubeNative Son Independent film version of Richard Wrights novel and play the latter co-written with Paul Green starring a too old Richard Wright as Bigger ThomasNative Son 1951 version or on YouTubeNative Son 1986 version starring Victor Love Matt Dillon Elizabeth McGovern and Oprah Winfrey 1986 or on YouTubePinky A Black woman who looks White returns to her southern home to work out her issues 1949 CANVASOCRA or on YoutubeOTHER MOVIES IN MEDIA LIBRARYBirth of a Nation The DW Griffiths controversial 1915 silent film that praises the rise of the Ku Klux Klan following the Civil WarBlack Theatre The Making of a Movement Documentary by Woodie King Jr Overview From A Raisin in the Sun to For Colored GirlsBlack Theatre Summit Dartmouth College 1998 Convened by August Wilson Colored Museum The George C Wolfes exhibits of African-American Life 1988 Providence Black Repertory Companys 2006 productionEthnic Notions A documentary about African-American stereotypes by Marlon RiggsFreshwater Road A Book-on-Legs production of the Civil Rights Era novel by Denise Nicholas adapted by the author and Elmo Terry-MorganNBT At the Dark Tower  Interview wBarbara Ann Teer founder the National Black Theatre 1997NBT Odyssey The Chronicle of the early days of the National Black Theatre of Harlem and its founder Barbara Ann TeerPhilip Rose At the Dark Tower Interview with the producer of the original Broadway production of A Raisin in the Sun Rites and Reason Theatre 2004Song of Sheba The Acts 1 2 African-American musical praise song by  and Clarice LaVerne Thompson produced by the National Black Theatre for NHK-TV Japan 1992Tongues Untied Marlon Riggs poetic essay about Black Gay men late 1989Uncle Toms Cabin Silent film version of Harriet Beecher Stowes novel 1927FOUNDATION MATERIALS READINGS AND FILMSALL ON CANVASA History of African American Theatre by Errol G Hill and James V Hatch Forward Preface Introduction Chapter 1 Slavery and conquest background to black theatre and Chapter 2 The African Theatre to Uncle Toms Cabin Ethnic Notions documentary film by Marlon RiggsBlack Theatre The Making of a Movement 1959-1975 documentary by Woodie King JrBlack Moralist Culture ParadigmText Analysis Model  Thesis Development OutlineWebsite for AFRI 1110 designed by John Hay Librarians VBV link VBV Research Librarian ORDER OF STUDYNB Contribute write a reflection comment question query reaction or idea about each assignment on the canvas discussion board before each class sessionSeptember 2018Thu 090618 Introduction View excerpts of Ethnic Notions by Marlon Riggs African-American stereotypes review syllabus discuss expectationsAssignmentReview foundation readings and moviesTue 091118 Discuss and analyze Foundation MaterialsAssignmentReview thesis development outlineThu 091318Discuss and analyze thesis development processIdentify VBV teams for brainstorming research study and presentations  AssignmentExplore the VBV Website  Prepare questions for Holly SnyderTue 091818 Research SessionResearch session with John Hay Librarian Afro-Americanist Holly SnyderAssignment Read 1 Read The Owl Answers CANVAS 2 People That Led to My Plays by Adrienne Kennedy CANVASNB The Owl Answers is one of the most challenging plays on the syllabus to analyze and understand  The reason I am starting with this play is to accelerate your understanding and practice of text analysis Thu 092018Discuss and analyze The Owl AnswersAssignment Read The Escape or A Leap for Freedom by William Wells Brown 1858 BTUSA-EPTue 092518Discuss and analyze The EscapeAssignment Read a The Colored Museum by George C Wolfe 1988 BTUSA-RP  2 View the PBS-TV excerpted performances directed by George C Wolfe on YouTube andor the 2006 production by the Providence Black Repertory Company CANVASThu 092718Discuss and analyze The Colored MuseumAssignment 1 Read Day of Absence by Douglas Turner Ward Negro Ensemble Company 1965 BTUSA-RPOctober 2018Tue 100218Discuss and analyze Day of AbsenceAssignment Read Wedding Band by Alice Childress 1966 Thu 100418Discuss and analyze Wedding Band and the Black Moralist Culture BMCAssignment 1 Read for colored girlsby Ntozake Shange 1975 CANVAS Introduction that includes the thesis statement is due on or before Friday 100518 by 500 pmTue 100918Discuss analyze and perform for colored girlsAssignment Read  a Mulatto by Langston Hughes 1935 BTUSA-RPThu 101118Discuss and analyze Mulatto and the crime of passing for WhiteOverview which includes your methodology for proving your thesis is due on or before Friday 101218 by 500 pmAssignment Read a Rachel by Angelina Weld Grimk 1916 BTUSA-EP b Aristocrats of Color by Willard B Gatewood The Genteel Performance b Rachel  The Play of the Month The Reason and Synopsis by the Author Grimk c Journal of Negro History An Examination of the Relationship between Race and Gender in an Early Twentieth Century Drama A Study of Angelina Weld Grimks Play Rachel by Michelle Hester 1994  Note VBV final paper fall 1993  d Toms Coons Mulattos Mammies and Bucks The Birth of a Nation by Donald Bogle CANVAS View The Birth of a Nation DW Griffiths infamous Civil WarReconstruction Era epic silent 1915  CANVASTue 101618Discuss and analyze Rachel and a Black aristocratic strategy for equal rightsAssignment Read a On Strivers Row by Abram Hill 1939 a parody of the Black middle class BTUSA-RP Thu 101818Discuss and analyze On Strivers Row and the aspirational middle-classAssignment Read Fierce Love by Pomo Afro Homos 1991 CANVAS  View Fierce Love on CANVASResearch Session Meet with Dr Holly Snyder Afro-Americanist John Hay Library for research assistance sessionResearch Report is due on or before Friday 101918 by 500 pmTue 102318Discuss analyze and perform Fierce Love Black Gay Male Moralist CodeAssignment Read a Native Son by Paul Green  Richard Wright 1941 BTUSA-RP b View Native Son starring Richard Wright as a too old Bigger Thomas 1951 on CANVAS or on YouTubeandor the 1986 version with Victor Love as Bigger Thomas CANVAS or on YouTubeThu 102518Discuss Native SonAssignment Read a A Raisin in the Sun by Lorraine Hansberry 1959 BTUSA-RP b View a A Raisin in the Sun 1961 Producers David Susskind  Phillip Rose b If you have not done so by now - view Black Theatre The Making of a Movement 1980 Woodie King Jr BOTH ON CANVASTue 103018Discuss and analyze A Raisin in the Sun and yet another New NegroAssign roles for BMC Trial Goin A Buffalo characters judge court officersAssignment Read a Goin A Buffalo by Ed Bullins 1966 BTUSA-RP and b Like Niggers Ed Bullins Theater of Reality from The Development of Black Theater in America by Leslie Catherine Sanders CANVAS c PREPARE FOR BMC TRIAL TO BE CONDUCTED IN CLASS ON THU 110217  The Charge Crimes Against the Advancement of Black PeopleNovember 2018Thu 110118BMC Trial Goin A BuffaloAssignment a Fences by August Wilson 1986 CANVAS b The Ground on Which I Stand by August Wilson American Theatre magazine 1996 CANVAS c Black Theatres Unprecedented Times Call and Response The Making of the African Grove Institute for the Arts by Elmo Terry-Morgan BTNews 1999 CANVAS d View  African Grove Institute for the Arts AGIA - Black Theatre Summit Dartmouth College March 1998ArgumentText Analysis First 5 pages are due on or before Friday 110218 by 500 pmTue 110618Discuss Fences and African-American Theatre MovementsAssignment  Work on Thesis PapersThu 110818 Open DayCatch-up on any unfinished business and reflectionsAssignment Read a Dutchman by Amiri Baraka LeRoi Jones BTUSA-RP 1964 b No One Will Turn to that Station Again from The Development of Black Theater in American by Leslie Catherine Sanders CANVAS as LeRoi Jones Essay c View Dutchman on CANVASOCRA or on YouTubeTue 111318Discuss Dutchman and the 1960s Black Arts MovementAssignment a Read Contribution by Ted Shine BTUSA-RP 1969Thu 111518Discuss and analyze Contribution and generational legaciesAssignment View a Freshwater Road adapted by its author Denise Nicholas and Elmo Terry-Morgan 2008 CANVAS b Browse the Eyes on the Prize series for information on Freedom Summer 64 CANVAS c View Inside the Africana Studies Classroom A Conversation with Professor Franoise Hamlin author Crossroads at Clarksdale and Judy Ricardson author Hands on the Freedom Plow co-producer Eyes on the Prize documentary and SNCC member on the Africana Studies WebsiteFirst Draft is due on or before Friday 111618 by 500 pmTue 112018 No class Thanksgiving BreakThu 112218 No class Thanksgiving BreakTue 112718Discuss and analyze Freshwater Road and the Civil Rights MovementAssignment Class divide into groups to read selected short plays from the 1920s-ish list and report on them in class on Tue 112918  BTUSA-EPMine Eyes Have Seen by Alice Dunbar-Nelson 1918Synopsis WWI Should Colored Americans support USA WarsAftermath by Mary P Burrill 1919Synopsis Black Americans post-WWI expectationsThey Who Sit in Darkness by Mary B Burrell 1919Synopsis Impoverished Black family birth control  educationFor Unborn Children by Myrtle Smith Livingston 1926Synopsis BlackWhite romanticsexual relationship tabooThe Purple Flower by Marita Odette Occomy Bonner 1928Synopsis Surreal expression of BlackWhite power dynamicsA Sunday Morning in the South by Georgia Douglas Johnson 1925Synopsis Innocent Black man accused of raping a White womanThu 112918Discuss and analyze 1920s-ish playsTBA Special invitation to attend workshop performance co-sponsored by the Department of Africana StudiesRites and Reason Theatre and the Brown-Trinity MFA Programs in Directing and ActingAssignment Prepare to discuss and work on final thesis papersDecember 2018Tue 120418Thesis paper workshopAssignment Work on thesis papersThu 120618 Last official class meetingThesis paper workshopTHESIS DEVELOPMENT CHECK LISTWrite your paper with the assumption that the reader is educated capable of following a sophisticated argument but knows nothing about the topicThe INTRODUCTION includes basic information Title of the playAuthors name Publication andor first performance dates  A general statement what the play is about thematicallyEstablish parameters of your researchArticulate your thesis statement that which you will prove  The thesis statement is your value judgmentCreate a TRANSITIONAL sentence or short paragraph that fluidly leads the reader into the overviewThe OVERVIEW is not a synopsis of the play or a blow-by-blow description of the dramatic action  The Overview presents the salient themes topics and issues that the play addresses Cogently introduce storyline and metaphorical interpretations that will defend and prove your thesisThe charactersSituationsFormstyle realism surrealism episodic comedysatire etcCreate a TRANSITIONAL sentence or short paragraph that fluidly leads the reader into your argumenttext analysis The ARGUMENT is your case the heart of your thesis paper  Think defense trial lawyer  The TEXT ANALYSIS is how you argue your case  Note Keep your thesis statement up front in the anonymous readers mindThe text analysis includes information that will prove your thesis  Provide significant citations not snippets of dialogue Interpret the citation metaphorically what does it meanProvide research footnote to support your interpretationOrganize your text analysis by following the story line as the action occurs in the script Begin with the title to the end and honestly guide the anonymous reader through the story as it is written ie do NOT jump around in the text cherry-picking moments out of context that defend your thesisRecommendation on how to IDENTIFY SIGNIFICANT CITATIONS Make a hard copy of the textplayHighlight the sections dialogue action descriptions that serve as evidence to prove your thesisType those highlighted passages into your paper and footnote themYou can then describe what happens in the un-highlighted passages that move you forward to your next significant citation a point that proves your thesisThe CONCLUSION is the introduction to your summation ie Ladies and Gentlemen of the jury Remind the anonymous reader of the points you have raised in your argument the evidence you have presented that prove your thesis statement ie Ladies and Gentlemen of the jury I rest my caseThe ANNOTATED BIBLIOGRAPHY is an archive of the evidentiary materials you used to present your argument and prove your thesis  The annotated bibliography is a brief description of each research source  Be honest ie if you only read chapter 3 of a book acknowledge that  This proves that you actually read the resource material  As a fringe benefit the annotated bibliography provides you with a personal reference bibliography that you can use for future purposes Take advantage of the bibliography provided in the BTUSA anthologies  NB The Annotated Bibliography includes a description of your research session with John Hay Librarian Holly Snyder ie what you learned in re how to conduct your researchYou want your THESIS PAPER PRESENTATION to be reader-friendly and professionally presented For the purposes of this paperSubmit work in Worddoc x format so the reader can increasedecrease the font for easier reading - and type comments into the body of the paperCarefully proofread for misspellings and syntactical mistakesDo bottom-of-the-page footnotesPage-number your paperProvide the title of the paperProvide your full nameProvide the date of paper submissionProvide your contact informationASPIRATIONAL 168We have 168 hours each week to use and organize our time efficiently Lets try With gratitude and peace Professor Elmo\n",
      "Now description\n",
      "VBV is an interdisciplinary exploration of African-American history and cultures through the analyses of Black authored plays from 1858 to the present  The course focuses on the development of a thesis paper which includes an incremental re-writing process\n"
     ]
    }
   ],
   "source": [
    "data['Corpus'] = data['Corpus'].apply(lambda x: remove_links(str(x)))\n",
    "data['description'] = data['description'].apply(lambda x: remove_links(str(x)))\n",
    "print(data['Corpus'][3])\n",
    "print(\"Now description\")\n",
    "print(data['description'][3])"
   ]
  },
  {
   "cell_type": "code",
   "execution_count": 61,
   "id": "42971206-0532-4990-8621-fc51596306d6",
   "metadata": {},
   "outputs": [],
   "source": [
    "#data['Corpus'] = data['Corpus'].apply(lambda x: re.sub(\"\\W\", \" \", str(x)))\n",
    "#print(data['Corpus'][3])"
   ]
  },
  {
   "cell_type": "code",
   "execution_count": 62,
   "id": "38f63664-8964-43b1-a330-55635e57aca8",
   "metadata": {},
   "outputs": [
    {
     "name": "stdout",
     "output_type": "stream",
     "text": [
      "this syllabus is dynamic and subject to changeinstructor  elmo terry-morgan associate professormeeting time tuesdaysthursdays 1030 am - 1150 amlocation  churchill house room 106office hours  open hours tue 230 pm -400 pmwed 100  200 pm  other times by appointmentplace   churchill 2nd floor room 204contact info  ofc 3-1707 cell 401-419-5507 emergencies only   e-mail elmoterry-morganbrownedu preferredcourse format seminar designated writing course writthe mission of brown university is to serve the community the nation and the world by discovering communicating and preserving knowledge and understanding in a spirit of free inquiry and by educating and preparing students to discharge the offices of life with usefulness and reputation we do this through a partnership of students and teachers in a unified community known as a university-college source brown university websitevoices beneath the veil a theatre of liberationvoices beneath the veil supports the mission of brown university by providing a study of african-american history life and cultures through the analyses of a sampling of plays from 1858 to the present that are written by black authors the pedagogical approach is to develop our critical thought process by improving and enhancing our analytical thinking and writing skills via classroom discussions and exercises and the development of a major thesis paper we will investigate the texts for nuances and unique points of entry into old conversations  the playwrights serve as reporters and commentators on primarily the experiences and world perspectives of african-americans  our goal is to create new knowledge gradingin-class participation 50 of grade as a seminar - students are expected to participate actively in class discussions and exercises and to conduct independent research that is shared with the class you are allowed one unexcused absence from class if you exceed that well have a talk  you cannot earn a high participation grade if you are not in attendancegrading continuedthesis paper 15-20 pages 50 of grade all assignments are submitted as a worddocx attachment via email no pdfsour thesis paper development is a scaffolding process which means we will build the paper incrementally step-by-step as followsintroduction that includes the thesis statement is due on or before friday 100518 by 500 pmoverview which includes your methodology for proving your thesis is due on or before friday 101218 by 500 pm research session meet with dr holly snyder afro-americanist john hay library for research assistance sessionresearch report is due on or before friday 101918 by 500 pmargumenttext analysis first 5 pages are due on or before friday 110218 by 500 pmfirst draft is due on or before friday 111618 by 500 pmfinal draft is due on or before friday 120718 by 500 pmorganization and time management otm in hoursthis is an approximation of time use that is required by the university  individual practices may varyin-class meetings     32 40foundation week foundation readings  2000foundation viewings  0230total    2230     sub-total 5510weekly read each play two times1st read-though get sense of the play and reflect upon it      02002nd read-through analyze the text take notes and determine your thesis    0300readview supplemental readingsfilms        040013 week subtotal 13x9    11700 weekly  thesis paper development thinking researching writing  07009 week subtotal 9x7    6300semester total hours    23510       primary texts at brown university book storealso on reserve at the rockblack theatre usa the early period 1847-1938 editors james v hatch ted shine in the syllabus this book is represented as btusa-epblack theatre usa the recent period 1935-today editors james v hatch ted shine in the syllabus this book is represented as btusa-rprecommended references on reserve at the rocka history of african american theatre by errol g hill and james v hatchpn2270a35 h55 2003aristocrats of color black elite 1880-1920 by willard b gatewoode18586g38 1990before the mayflower by lerone bennett jre185b4x 1982colored contradictions editors harry elam jr  robert alexanderps628n4 c65 1996the development of black theater in america by leslie catherine sandersps338n4 s26 1988from slavery to freedom by john hope frankline185f825 2000toms coons mulattos mammies and bucks by donald boglepn19959n4 b6 1994also refer to afri 1110 website  you can access this site via canvasmovies available via canvas or ocra or youtube back upocra password  hansberrymovies in media library with closed caption availabilityabolitionists the pbs series that documents the lives and work of notable abolitionists anti-slavery activistsraisin in the sun a film version of lorraine hansberrys 1959   groundbreaking playdutchman film version of leroi jonesamiri barakas allegorical play about black and white race relations in the mid-1960s or on youtubeeyes on the prize volumes 1-7 a documentary on the civil rights movementfierce love 1991 performance by the groundbreaking trio pomo afro homos post-modern african-american homosexuals green pastures the early all black cast hollywood film a folkloric negro telling of the bibles old testament adaptation by marc crowley 1936hallelujah first all black cast hollywood film good negro man falls prey to the wiles of the tragic mulatta chick 1929 on youtube imitation of life 1934 version film adaptation of novel by fanny hurst friendship between a white woman and black woman and their troublesome daughters 1934 or on youtubeimitation of life 1959 version or on youtubelost boundaries based on a true story about a negro family that passed for white in the 1920s and 1930s in new england 1949 or on youtubemalcolm x make it plain documentary on the life of malcolm x 1994 or on youtubenative son independent film version of richard wrights novel and play the latter co-written with paul green starring a too old richard wright as bigger thomasnative son 1951 version or on youtubenative son 1986 version starring victor love matt dillon elizabeth mcgovern and oprah winfrey 1986 or on youtubepinky a black woman who looks white returns to her southern home to work out her issues 1949 canvasocra or on youtubeother movies in media librarybirth of a nation the dw griffiths controversial 1915 silent film that praises the rise of the ku klux klan following the civil warblack theatre the making of a movement documentary by woodie king jr overview from a raisin in the sun to for colored girlsblack theatre summit dartmouth college 1998 convened by august wilson colored museum the george c wolfes exhibits of african-american life 1988 providence black repertory companys 2006 productionethnic notions a documentary about african-american stereotypes by marlon riggsfreshwater road a book-on-legs production of the civil rights era novel by denise nicholas adapted by the author and elmo terry-morgannbt at the dark tower  interview wbarbara ann teer founder the national black theatre 1997nbt odyssey the chronicle of the early days of the national black theatre of harlem and its founder barbara ann teerphilip rose at the dark tower interview with the producer of the original broadway production of a raisin in the sun rites and reason theatre 2004song of sheba the acts 1 2 african-american musical praise song by  and clarice laverne thompson produced by the national black theatre for nhk-tv japan 1992tongues untied marlon riggs poetic essay about black gay men late 1989uncle toms cabin silent film version of harriet beecher stowes novel 1927foundation materials readings and filmsall on canvasa history of african american theatre by errol g hill and james v hatch forward preface introduction chapter 1 slavery and conquest background to black theatre and chapter 2 the african theatre to uncle toms cabin ethnic notions documentary film by marlon riggsblack theatre the making of a movement 1959-1975 documentary by woodie king jrblack moralist culture paradigmtext analysis model  thesis development outlinewebsite for afri 1110 designed by john hay librarians vbv link vbv research librarian order of studynb contribute write a reflection comment question query reaction or idea about each assignment on the canvas discussion board before each class sessionseptember 2018thu 090618 introduction view excerpts of ethnic notions by marlon riggs african-american stereotypes review syllabus discuss expectationsassignmentreview foundation readings and moviestue 091118 discuss and analyze foundation materialsassignmentreview thesis development outlinethu 091318discuss and analyze thesis development processidentify vbv teams for brainstorming research study and presentations  assignmentexplore the vbv website  prepare questions for holly snydertue 091818 research sessionresearch session with john hay librarian afro-americanist holly snyderassignment read 1 read the owl answers canvas 2 people that led to my plays by adrienne kennedy canvasnb the owl answers is one of the most challenging plays on the syllabus to analyze and understand  the reason i am starting with this play is to accelerate your understanding and practice of text analysis thu 092018discuss and analyze the owl answersassignment read the escape or a leap for freedom by william wells brown 1858 btusa-eptue 092518discuss and analyze the escapeassignment read a the colored museum by george c wolfe 1988 btusa-rp  2 view the pbs-tv excerpted performances directed by george c wolfe on youtube andor the 2006 production by the providence black repertory company canvasthu 092718discuss and analyze the colored museumassignment 1 read day of absence by douglas turner ward negro ensemble company 1965 btusa-rpoctober 2018tue 100218discuss and analyze day of absenceassignment read wedding band by alice childress 1966 thu 100418discuss and analyze wedding band and the black moralist culture bmcassignment 1 read for colored girlsby ntozake shange 1975 canvas introduction that includes the thesis statement is due on or before friday 100518 by 500 pmtue 100918discuss analyze and perform for colored girlsassignment read  a mulatto by langston hughes 1935 btusa-rpthu 101118discuss and analyze mulatto and the crime of passing for whiteoverview which includes your methodology for proving your thesis is due on or before friday 101218 by 500 pmassignment read a rachel by angelina weld grimk 1916 btusa-ep b aristocrats of color by willard b gatewood the genteel performance b rachel  the play of the month the reason and synopsis by the author grimk c journal of negro history an examination of the relationship between race and gender in an early twentieth century drama a study of angelina weld grimks play rachel by michelle hester 1994  note vbv final paper fall 1993  d toms coons mulattos mammies and bucks the birth of a nation by donald bogle canvas view the birth of a nation dw griffiths infamous civil warreconstruction era epic silent 1915  canvastue 101618discuss and analyze rachel and a black aristocratic strategy for equal rightsassignment read a on strivers row by abram hill 1939 a parody of the black middle class btusa-rp thu 101818discuss and analyze on strivers row and the aspirational middle-classassignment read fierce love by pomo afro homos 1991 canvas  view fierce love on canvasresearch session meet with dr holly snyder afro-americanist john hay library for research assistance sessionresearch report is due on or before friday 101918 by 500 pmtue 102318discuss analyze and perform fierce love black gay male moralist codeassignment read a native son by paul green  richard wright 1941 btusa-rp b view native son starring richard wright as a too old bigger thomas 1951 on canvas or on youtubeandor the 1986 version with victor love as bigger thomas canvas or on youtubethu 102518discuss native sonassignment read a a raisin in the sun by lorraine hansberry 1959 btusa-rp b view a a raisin in the sun 1961 producers david susskind  phillip rose b if you have not done so by now - view black theatre the making of a movement 1980 woodie king jr both on canvastue 103018discuss and analyze a raisin in the sun and yet another new negroassign roles for bmc trial goin a buffalo characters judge court officersassignment read a goin a buffalo by ed bullins 1966 btusa-rp and b like niggers ed bullins theater of reality from the development of black theater in america by leslie catherine sanders canvas c prepare for bmc trial to be conducted in class on thu 110217  the charge crimes against the advancement of black peoplenovember 2018thu 110118bmc trial goin a buffaloassignment a fences by august wilson 1986 canvas b the ground on which i stand by august wilson american theatre magazine 1996 canvas c black theatres unprecedented times call and response the making of the african grove institute for the arts by elmo terry-morgan btnews 1999 canvas d view  african grove institute for the arts agia - black theatre summit dartmouth college march 1998argumenttext analysis first 5 pages are due on or before friday 110218 by 500 pmtue 110618discuss fences and african-american theatre movementsassignment  work on thesis papersthu 110818 open daycatch-up on any unfinished business and reflectionsassignment read a dutchman by amiri baraka leroi jones btusa-rp 1964 b no one will turn to that station again from the development of black theater in american by leslie catherine sanders canvas as leroi jones essay c view dutchman on canvasocra or on youtubetue 111318discuss dutchman and the 1960s black arts movementassignment a read contribution by ted shine btusa-rp 1969thu 111518discuss and analyze contribution and generational legaciesassignment view a freshwater road adapted by its author denise nicholas and elmo terry-morgan 2008 canvas b browse the eyes on the prize series for information on freedom summer 64 canvas c view inside the africana studies classroom a conversation with professor franoise hamlin author crossroads at clarksdale and judy ricardson author hands on the freedom plow co-producer eyes on the prize documentary and sncc member on the africana studies websitefirst draft is due on or before friday 111618 by 500 pmtue 112018 no class thanksgiving breakthu 112218 no class thanksgiving breaktue 112718discuss and analyze freshwater road and the civil rights movementassignment class divide into groups to read selected short plays from the 1920s-ish list and report on them in class on tue 112918  btusa-epmine eyes have seen by alice dunbar-nelson 1918synopsis wwi should colored americans support usa warsaftermath by mary p burrill 1919synopsis black americans post-wwi expectationsthey who sit in darkness by mary b burrell 1919synopsis impoverished black family birth control  educationfor unborn children by myrtle smith livingston 1926synopsis blackwhite romanticsexual relationship taboothe purple flower by marita odette occomy bonner 1928synopsis surreal expression of blackwhite power dynamicsa sunday morning in the south by georgia douglas johnson 1925synopsis innocent black man accused of raping a white womanthu 112918discuss and analyze 1920s-ish playstba special invitation to attend workshop performance co-sponsored by the department of africana studiesrites and reason theatre and the brown-trinity mfa programs in directing and actingassignment prepare to discuss and work on final thesis papersdecember 2018tue 120418thesis paper workshopassignment work on thesis papersthu 120618 last official class meetingthesis paper workshopthesis development check listwrite your paper with the assumption that the reader is educated capable of following a sophisticated argument but knows nothing about the topicthe introduction includes basic information title of the playauthors name publication andor first performance dates  a general statement what the play is about thematicallyestablish parameters of your researcharticulate your thesis statement that which you will prove  the thesis statement is your value judgmentcreate a transitional sentence or short paragraph that fluidly leads the reader into the overviewthe overview is not a synopsis of the play or a blow-by-blow description of the dramatic action  the overview presents the salient themes topics and issues that the play addresses cogently introduce storyline and metaphorical interpretations that will defend and prove your thesisthe characterssituationsformstyle realism surrealism episodic comedysatire etccreate a transitional sentence or short paragraph that fluidly leads the reader into your argumenttext analysis the argument is your case the heart of your thesis paper  think defense trial lawyer  the text analysis is how you argue your case  note keep your thesis statement up front in the anonymous readers mindthe text analysis includes information that will prove your thesis  provide significant citations not snippets of dialogue interpret the citation metaphorically what does it meanprovide research footnote to support your interpretationorganize your text analysis by following the story line as the action occurs in the script begin with the title to the end and honestly guide the anonymous reader through the story as it is written ie do not jump around in the text cherry-picking moments out of context that defend your thesisrecommendation on how to identify significant citations make a hard copy of the textplayhighlight the sections dialogue action descriptions that serve as evidence to prove your thesistype those highlighted passages into your paper and footnote themyou can then describe what happens in the un-highlighted passages that move you forward to your next significant citation a point that proves your thesisthe conclusion is the introduction to your summation ie ladies and gentlemen of the jury remind the anonymous reader of the points you have raised in your argument the evidence you have presented that prove your thesis statement ie ladies and gentlemen of the jury i rest my casethe annotated bibliography is an archive of the evidentiary materials you used to present your argument and prove your thesis  the annotated bibliography is a brief description of each research source  be honest ie if you only read chapter 3 of a book acknowledge that  this proves that you actually read the resource material  as a fringe benefit the annotated bibliography provides you with a personal reference bibliography that you can use for future purposes take advantage of the bibliography provided in the btusa anthologies  nb the annotated bibliography includes a description of your research session with john hay librarian holly snyder ie what you learned in re how to conduct your researchyou want your thesis paper presentation to be reader-friendly and professionally presented for the purposes of this papersubmit work in worddoc x format so the reader can increasedecrease the font for easier reading - and type comments into the body of the papercarefully proofread for misspellings and syntactical mistakesdo bottom-of-the-page footnotespage-number your paperprovide the title of the paperprovide your full nameprovide the date of paper submissionprovide your contact informationaspirational 168we have 168 hours each week to use and organize our time efficiently lets try with gratitude and peace professor elmo\n",
      "Now description\n",
      "vbv is an interdisciplinary exploration of african-american history and cultures through the analyses of black authored plays from 1858 to the present  the course focuses on the development of a thesis paper which includes an incremental re-writing process\n"
     ]
    }
   ],
   "source": [
    "data['Corpus'] = data['Corpus'].apply(lambda x: str(x).lower())\n",
    "data['description'] = data['description'].apply(lambda x: str(x).lower())\n",
    "print(data['Corpus'][3])\n",
    "print(\"Now description\")\n",
    "print(data['description'][3])"
   ]
  },
  {
   "cell_type": "code",
   "execution_count": 64,
   "id": "736a3100-d496-45ed-817b-81d89ea97d6f",
   "metadata": {},
   "outputs": [],
   "source": [
    "#print(data)"
   ]
  },
  {
   "cell_type": "code",
   "execution_count": 65,
   "id": "d04a2648-0bbe-421b-a6ad-a5fdb7a3ceaa",
   "metadata": {},
   "outputs": [],
   "source": [
    "data.to_csv(\"cleaned_data_new.csv\")"
   ]
  },
  {
   "cell_type": "code",
   "execution_count": null,
   "id": "61d2196c-e1a5-4a05-ad6a-28ab87ae33fa",
   "metadata": {},
   "outputs": [],
   "source": []
  }
 ],
 "metadata": {
  "kernelspec": {
   "display_name": "Python 3 (ipykernel)",
   "language": "python",
   "name": "python3"
  },
  "language_info": {
   "codemirror_mode": {
    "name": "ipython",
    "version": 3
   },
   "file_extension": ".py",
   "mimetype": "text/x-python",
   "name": "python",
   "nbconvert_exporter": "python",
   "pygments_lexer": "ipython3",
   "version": "3.9.6"
  },
  "widgets": {
   "application/vnd.jupyter.widget-state+json": {
    "state": {},
    "version_major": 2,
    "version_minor": 0
   }
  }
 },
 "nbformat": 4,
 "nbformat_minor": 5
}
